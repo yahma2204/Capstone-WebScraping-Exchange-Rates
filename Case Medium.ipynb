{
 "cells": [
  {
   "cell_type": "markdown",
   "metadata": {},
   "source": [
    "# Capstone Webscrapping using BeautifulSoup\n",
    "\n",
    "At this module we will learn on how do simple web scrapping using beautiful soup. Web scrapping is one of a method that we can use to colleting the data from internet. At this particular module, we will try to scrap historical exchange rates between the Indonesian Rupiah (IDR) and the US Dollar (USD) between 7/12/2021 and 1/6/2022.\n",
    "\n",
    "## background\n",
    "\n",
    "At this project we try to scrap historical exchange rates between the Indonesian Rupiah (IDR) and the US Dollar (USD) between 7/12/2021 and 1/6/2022. We will try to scrap this sites for educational purpose only. The site that we will use is [exchange-rates.org](https://www.exchange-rates.org/history/IDR/USD/T)\n",
    "\n",
    "We will scrap 2 points from this sites. The points that we will use are *tanggal* and *harga harian*. \n",
    "\n",
    "## Requesting the Data and Creating a BeautifulSoup\n",
    "\n",
    "Let's begin with requesting the web from the site with `get` method."
   ]
  },
  {
   "cell_type": "code",
   "execution_count": 121,
   "metadata": {
    "ExecuteTime": {
     "end_time": "2020-01-13T05:12:23.275508Z",
     "start_time": "2020-01-13T05:12:20.009898Z"
    }
   },
   "outputs": [],
   "source": [
    "import requests\n",
    "\n",
    "url_get = requests.get('https://www.exchange-rates.org/history/IDR/USD/T')"
   ]
  },
  {
   "cell_type": "markdown",
   "metadata": {},
   "source": [
    "To visualize what exactly you get from the `request.get`, we can use .content so ee what we exactly get, in here i slice it so it won't make our screen full of the html we get from the page. You can delete the slicing if you want to see what we fully get."
   ]
  },
  {
   "cell_type": "code",
   "execution_count": 122,
   "metadata": {
    "ExecuteTime": {
     "end_time": "2020-01-13T05:12:23.290648Z",
     "start_time": "2020-01-13T05:12:23.277650Z"
    }
   },
   "outputs": [
    {
     "data": {
      "text/plain": [
       "b'!DOCTYPE html>\\r\\n<!--[if lt IE 9]>\\r\\n<html class=\"no-js ie8 oldie\" lang=\"en\" xml:lang=\\'en\\'>\\r\\n<![endif]-->\\r\\n<!--[if gt IE 8]><!--><html class=\"no-js\" lang=\"en\" xml:lang=\\'en\\'><!--<![endif]-->\\r\\n<head>\\r\\n<title>Indonesian Rupiah Exchange Rate - US Dollar - Historical Exchange Rates</title>\\r\\n<meta http-equiv=\"X-UA-Compatible\" content=\"IE=edge\">\\r\\n<meta name=\"viewport\" content=\"width=device-width, initial-scale=1, maximum-scale=5\">\\r\\n<meta charset=\"utf-8\" /><meta http-equiv=\"Content-Type\" content=\"text/ht'"
      ]
     },
     "execution_count": 122,
     "metadata": {},
     "output_type": "execute_result"
    }
   ],
   "source": [
    "url_get.content[1:500]"
   ]
  },
  {
   "cell_type": "markdown",
   "metadata": {},
   "source": [
    "As we can see we get a very unstructured and complex html, which actually contains the codes needed to show the webpages on your web browser. But we as human still confused what and where we can use that piece of code, so here where we use the beautifulsoup. Beautiful soup class will result a beautifulsoup object. Beautiful Soup transforms a complex HTML document into a complex tree of Python objects. \n",
    "\n",
    "Let's make Beautiful soup object and feel free to explore the object here."
   ]
  },
  {
   "cell_type": "code",
   "execution_count": 123,
   "metadata": {
    "ExecuteTime": {
     "end_time": "2020-01-13T05:12:23.808122Z",
     "start_time": "2020-01-13T05:12:23.292610Z"
    }
   },
   "outputs": [],
   "source": [
    "from bs4 import BeautifulSoup \n",
    "\n",
    "soup = BeautifulSoup(url_get.content,\"html.parser\")"
   ]
  },
  {
   "cell_type": "markdown",
   "metadata": {},
   "source": [
    "## Finding the right key to scrap the data & Extracting the right information"
   ]
  },
  {
   "cell_type": "markdown",
   "metadata": {},
   "source": [
    "Let's back to our web page first. The information that we need are the period of time and the exchange rates between the Indonesian Rupiah (IDR) and the US Dollar (USD) between 7/12/2021 and 1/6/2022, which contain in the table. To know which part of the code refer to that table, we can just move our cusor there, right click, and inspect element. Then we will see something like this. \n",
    "\n",
    "<img src=\"asset/img1.png\">\n",
    "\n",
    "From inspect element we know that we need to find the line table with class `table table-striped table-hover table-hover-solid-row table-simple history-data`. We can use the find method at our beautifusoup object. Let's also call our object to see what we get. \n",
    "\n",
    "Find the key and put the key into the `.find()` Put all the exploring the right key at this cell. "
   ]
  },
  {
   "cell_type": "code",
   "execution_count": 124,
   "metadata": {
    "ExecuteTime": {
     "end_time": "2020-01-13T05:12:23.878904Z",
     "start_time": "2020-01-13T05:12:23.854974Z"
    }
   },
   "outputs": [
    {
     "name": "stdout",
     "output_type": "stream",
     "text": [
      "table class=\"table table-striped table-hover table-hover-solid-row table-simple history-data\">\n",
      " <tbody>\n",
      "  <tr>\n",
      "   <td>\n",
      "    1/6/2022\n",
      "   </td>\n",
      "   <td>\n",
      "    Thursday\n",
      "   </td>\n",
      "   <td>\n",
      "    <a href=\"/Rate/USD/IDR/1-6-2022\">\n",
      "     14,387.13904\n",
      "    </a>\n",
      "    IDR\n",
      "   </td>\n",
      "   <td class=\"text-narrow-screen-hidden\">\n",
      "    <a href=\"/Rate/USD/IDR/1-6-2022\">\n",
      "     USD IDR rate for 1/6/2022\n",
      "    </a>\n",
      "   </td>\n",
      "  </tr>\n",
      "  <tr>\n",
      "   <td>\n",
      "    1/5/2022\n",
      "   </td>\n",
      "   <td>\n",
      "    Wednesday\n",
      "   </td>\n",
      "   <td>\n",
      "    <a href=\"/Rate/USD/ID\n"
     ]
    }
   ],
   "source": [
    "table = soup.find(\"table\", attrs={\"class\":\"table table-striped table-hover table-hover-solid-row table-simple history-data\"})\n",
    "print(table.prettify()[1:500])"
   ]
  },
  {
   "cell_type": "markdown",
   "metadata": {},
   "source": [
    "As we can see from the line we just extract, we get all the content we needed. The `table` tag defines an HTML table. An HTML table consists of one `table` element and one or more `tr`, `th`, and `td` elements.\n",
    "\n",
    "Now, we need to get 2 information, that is the period of time and the exchange rates between the Indonesian Rupiah (IDR) and the US Dollar (USD). Which you can read from above code, both of the information are contained within `td`.\n",
    "\n",
    "So, we can extract all of the `td` tag first, and then we will try to filter the period of time and the exchange rates between the Indonesian Rupiah (IDR) and the US Dollar (USD)"
   ]
  },
  {
   "cell_type": "code",
   "execution_count": 125,
   "metadata": {},
   "outputs": [],
   "source": [
    "row = table.find_all(\"td\")"
   ]
  },
  {
   "cell_type": "markdown",
   "metadata": {},
   "source": [
    "the first 5 data of the period of time from the html"
   ]
  },
  {
   "cell_type": "code",
   "execution_count": 126,
   "metadata": {},
   "outputs": [
    {
     "data": {
      "text/plain": [
       "[<td>1/6/2022</td>,\n",
       " <td>1/5/2022</td>,\n",
       " <td>1/4/2022</td>,\n",
       " <td>1/3/2022</td>,\n",
       " <td>12/31/2021</td>]"
      ]
     },
     "execution_count": 126,
     "metadata": {},
     "output_type": "execute_result"
    }
   ],
   "source": [
    "row[::4][:5]"
   ]
  },
  {
   "cell_type": "markdown",
   "metadata": {},
   "source": [
    "the first 5 data of the exchange rates between the Indonesian Rupiah (IDR) and the US Dollar (USD) from the html"
   ]
  },
  {
   "cell_type": "code",
   "execution_count": 127,
   "metadata": {},
   "outputs": [
    {
     "data": {
      "text/plain": [
       "[<td><a href=\"/Rate/USD/IDR/1-6-2022\">14,387.13904</a> IDR</td>,\n",
       " <td><a href=\"/Rate/USD/IDR/1-5-2022\">14,376.59427</a> IDR</td>,\n",
       " <td><a href=\"/Rate/USD/IDR/1-4-2022\">14,306.22137</a> IDR</td>,\n",
       " <td><a href=\"/Rate/USD/IDR/1-3-2022\">14,271.10676</a> IDR</td>,\n",
       " <td><a href=\"/Rate/USD/IDR/12-31-2021\">14,184.77099</a> IDR</td>]"
      ]
     },
     "execution_count": 127,
     "metadata": {},
     "output_type": "execute_result"
    }
   ],
   "source": [
    "row[2::4][:5]"
   ]
  },
  {
   "cell_type": "markdown",
   "metadata": {},
   "source": [
    "As you can see get already get the necessary key to extract all needed data. To get the only text information you can add `.text`."
   ]
  },
  {
   "cell_type": "code",
   "execution_count": 128,
   "metadata": {},
   "outputs": [
    {
     "data": {
      "text/plain": [
       "'14,387.13904 IDR'"
      ]
     },
     "execution_count": 128,
     "metadata": {},
     "output_type": "execute_result"
    }
   ],
   "source": [
    "row[2::4][0].text"
   ]
  },
  {
   "cell_type": "markdown",
   "metadata": {},
   "source": [
    "Finding row length."
   ]
  },
  {
   "cell_type": "code",
   "execution_count": 129,
   "metadata": {},
   "outputs": [
    {
     "data": {
      "text/plain": [
       "129"
      ]
     },
     "execution_count": 129,
     "metadata": {},
     "output_type": "execute_result"
    }
   ],
   "source": [
    "row_length = len(row[2::4])\n",
    "row_length"
   ]
  },
  {
   "cell_type": "markdown",
   "metadata": {},
   "source": [
    "Here is the scrapping process: \n",
    "\n",
    "- First we need to establish a placeholder to receive the information that we scrap. \n",
    "- We named our placeholder `temp` and it's a list. \n",
    "- Then we will make a loop from one until the the length of the table row, \n",
    "- which we will find all cell of the column one and two which contain period of time and the exchange rates between the Indonesian Rupiah (IDR) and the US Dollar (USD). \n",
    "- Then we will append it to our tuple that we prepared before, \n",
    "- every one iteration we will scrap one line of the table.  "
   ]
  },
  {
   "cell_type": "code",
   "execution_count": 130,
   "metadata": {
    "ExecuteTime": {
     "end_time": "2020-01-13T05:12:24.008256Z",
     "start_time": "2020-01-13T05:12:23.980358Z"
    }
   },
   "outputs": [
    {
     "data": {
      "text/plain": [
       "[('1/6/2022', '14,387.13904 IDR'),\n",
       " ('1/5/2022', '14,376.59427 IDR'),\n",
       " ('1/4/2022', '14,306.22137 IDR'),\n",
       " ('1/3/2022', '14,271.10676 IDR'),\n",
       " ('12/31/2021', '14,184.77099 IDR'),\n",
       " ('12/30/2021', '14,249.76380 IDR'),\n",
       " ('12/29/2021', '14,198.28676 IDR'),\n",
       " ('12/28/2021', '14,221.34174 IDR'),\n",
       " ('12/27/2021', '14,227.31928 IDR'),\n",
       " ('12/24/2021', '14,264.51755 IDR'),\n",
       " ('12/23/2021', '14,256.89960 IDR'),\n",
       " ('12/22/2021', '14,298.20378 IDR'),\n",
       " ('12/21/2021', '14,304.01234 IDR'),\n",
       " ('12/20/2021', '14,382.49273 IDR'),\n",
       " ('12/17/2021', '14,389.66562 IDR'),\n",
       " ('12/16/2021', '14,330.91366 IDR'),\n",
       " ('12/15/2021', '14,251.62584 IDR'),\n",
       " ('12/14/2021', '14,341.93227 IDR'),\n",
       " ('12/13/2021', '14,357.75629 IDR'),\n",
       " ('12/10/2021', '14,370.27875 IDR'),\n",
       " ('12/9/2021', '14,344.97904 IDR'),\n",
       " ('12/8/2021', '14,370.91961 IDR'),\n",
       " ('12/7/2021', '14,347.32452 IDR'),\n",
       " ('12/6/2021', '14,432.56943 IDR'),\n",
       " ('12/3/2021', '14,389.50020 IDR'),\n",
       " ('12/2/2021', '14,392.39767 IDR'),\n",
       " ('12/1/2021', '14,347.93748 IDR'),\n",
       " ('11/30/2021', '14,353.30743 IDR'),\n",
       " ('11/29/2021', '14,295.39385 IDR'),\n",
       " ('11/26/2021', '14,300.35336 IDR'),\n",
       " ('11/25/2021', '14,283.22294 IDR'),\n",
       " ('11/24/2021', '14,320.08606 IDR'),\n",
       " ('11/23/2021', '14,259.04525 IDR'),\n",
       " ('11/22/2021', '14,243.50566 IDR'),\n",
       " ('11/19/2021', '14,243.55587 IDR'),\n",
       " ('11/18/2021', '14,225.41528 IDR'),\n",
       " ('11/17/2021', '14,246.59228 IDR'),\n",
       " ('11/16/2021', '14,222.37140 IDR'),\n",
       " ('11/15/2021', '14,235.75523 IDR'),\n",
       " ('11/12/2021', '14,233.63534 IDR'),\n",
       " ('11/11/2021', '14,288.84762 IDR'),\n",
       " ('11/10/2021', '14,271.96265 IDR'),\n",
       " ('11/9/2021', '14,243.01887 IDR'),\n",
       " ('11/8/2021', '14,257.97264 IDR'),\n",
       " ('11/5/2021', '14,338.39761 IDR'),\n",
       " ('11/4/2021', '14,334.06331 IDR'),\n",
       " ('11/3/2021', '14,256.74541 IDR'),\n",
       " ('11/2/2021', '14,256.29202 IDR'),\n",
       " ('11/1/2021', '14,233.76847 IDR'),\n",
       " ('10/29/2021', '14,288.95452 IDR'),\n",
       " ('10/28/2021', '14,175.29082 IDR'),\n",
       " ('10/27/2021', '14,141.55342 IDR'),\n",
       " ('10/26/2021', '14,166.19588 IDR'),\n",
       " ('10/25/2021', '14,152.60477 IDR'),\n",
       " ('10/22/2021', '14,110.21079 IDR'),\n",
       " ('10/21/2021', '14,121.60389 IDR'),\n",
       " ('10/20/2021', '14,079.51380 IDR'),\n",
       " ('10/19/2021', '14,075.46229 IDR'),\n",
       " ('10/18/2021', '14,056.43762 IDR'),\n",
       " ('10/15/2021', '14,070.19147 IDR'),\n",
       " ('10/14/2021', '14,105.27223 IDR'),\n",
       " ('10/13/2021', '14,204.85164 IDR'),\n",
       " ('10/12/2021', '14,214.84450 IDR'),\n",
       " ('10/11/2021', '14,220.90165 IDR'),\n",
       " ('10/8/2021', '14,217.98083 IDR'),\n",
       " ('10/7/2021', '14,248.99612 IDR'),\n",
       " ('10/6/2021', '14,245.00000 IDR'),\n",
       " ('10/5/2021', '14,260.00000 IDR'),\n",
       " ('10/4/2021', '14,262.54265 IDR'),\n",
       " ('10/1/2021', '14,293.86378 IDR'),\n",
       " ('9/30/2021', '14,298.48079 IDR'),\n",
       " ('9/29/2021', '14,367.73186 IDR'),\n",
       " ('9/28/2021', '14,271.16497 IDR'),\n",
       " ('9/27/2021', '14,264.68406 IDR'),\n",
       " ('9/24/2021', '14,272.18430 IDR'),\n",
       " ('9/23/2021', '14,242.87856 IDR'),\n",
       " ('9/22/2021', '14,299.15334 IDR'),\n",
       " ('9/21/2021', '14,238.62381 IDR'),\n",
       " ('9/20/2021', '14,235.10302 IDR'),\n",
       " ('9/17/2021', '14,293.12609 IDR'),\n",
       " ('9/16/2021', '14,250.19893 IDR'),\n",
       " ('9/15/2021', '14,235.96566 IDR'),\n",
       " ('9/14/2021', '14,244.84504 IDR'),\n",
       " ('9/13/2021', '14,298.65671 IDR'),\n",
       " ('9/10/2021', '14,226.67070 IDR'),\n",
       " ('9/9/2021', '14,260.57530 IDR'),\n",
       " ('9/8/2021', '14,251.89711 IDR'),\n",
       " ('9/7/2021', '14,249.33912 IDR'),\n",
       " ('9/6/2021', '14,214.47321 IDR'),\n",
       " ('9/3/2021', '14,251.87392 IDR'),\n",
       " ('9/2/2021', '14,248.52165 IDR'),\n",
       " ('9/1/2021', '14,257.71231 IDR'),\n",
       " ('8/31/2021', '14,296.13264 IDR'),\n",
       " ('8/30/2021', '14,367.01609 IDR'),\n",
       " ('8/27/2021', '14,368.74436 IDR'),\n",
       " ('8/26/2021', '14,415.01986 IDR'),\n",
       " ('8/25/2021', '14,386.20000 IDR'),\n",
       " ('8/24/2021', '14,379.34070 IDR'),\n",
       " ('8/23/2021', '14,400.21794 IDR'),\n",
       " ('8/20/2021', '14,460.04574 IDR'),\n",
       " ('8/19/2021', '14,411.77604 IDR'),\n",
       " ('8/18/2021', '14,372.20861 IDR'),\n",
       " ('8/17/2021', '14,439.92418 IDR'),\n",
       " ('8/16/2021', '14,376.39296 IDR'),\n",
       " ('8/13/2021', '14,327.19776 IDR'),\n",
       " ('8/12/2021', '14,387.28127 IDR'),\n",
       " ('8/11/2021', '14,385.48676 IDR'),\n",
       " ('8/10/2021', '14,379.25224 IDR'),\n",
       " ('8/9/2021', '14,363.60538 IDR'),\n",
       " ('8/6/2021', '14,403.07373 IDR'),\n",
       " ('8/5/2021', '14,315.95314 IDR'),\n",
       " ('8/4/2021', '14,313.11092 IDR'),\n",
       " ('8/3/2021', '14,391.49693 IDR'),\n",
       " ('8/2/2021', '14,445.82502 IDR'),\n",
       " ('7/30/2021', '14,501.55250 IDR'),\n",
       " ('7/29/2021', '14,467.14994 IDR'),\n",
       " ('7/28/2021', '14,414.21667 IDR'),\n",
       " ('7/27/2021', '14,468.66842 IDR'),\n",
       " ('7/26/2021', '14,487.54718 IDR'),\n",
       " ('7/23/2021', '14,492.63051 IDR'),\n",
       " ('7/22/2021', '14,508.09177 IDR'),\n",
       " ('7/21/2021', '14,495.34596 IDR'),\n",
       " ('7/20/2021', '14,514.10964 IDR'),\n",
       " ('7/19/2021', '14,490.12260 IDR'),\n",
       " ('7/16/2021', '14,495.41215 IDR'),\n",
       " ('7/15/2021', '14,469.95831 IDR'),\n",
       " ('7/14/2021', '14,404.17703 IDR'),\n",
       " ('7/13/2021', '14,476.52203 IDR'),\n",
       " ('7/12/2021', '14,491.59294 IDR')]"
      ]
     },
     "execution_count": 130,
     "metadata": {},
     "output_type": "execute_result"
    }
   ],
   "source": [
    "temp = [] #initiating a tuple\n",
    "\n",
    "for i in range(0, row_length):\n",
    "\n",
    "    #get tanggal\n",
    "    tanggal = row[::4][i].text\n",
    "    \n",
    "    #get harga harian\n",
    "    harga_harian = row[2::4][i].text\n",
    "    harga_harian = harga_harian.strip() #to remove excess white space\n",
    "    \n",
    "    temp.append((tanggal,harga_harian)) \n",
    "    \n",
    "temp "
   ]
  },
  {
   "cell_type": "markdown",
   "metadata": {},
   "source": [
    "As you can see, the original webpage give us reversed information. To do a further analysis let's reverse our list we can use `::-1` to do that."
   ]
  },
  {
   "cell_type": "code",
   "execution_count": 131,
   "metadata": {},
   "outputs": [
    {
     "data": {
      "text/plain": [
       "[('7/12/2021', '14,491.59294 IDR'),\n",
       " ('7/13/2021', '14,476.52203 IDR'),\n",
       " ('7/14/2021', '14,404.17703 IDR'),\n",
       " ('7/15/2021', '14,469.95831 IDR'),\n",
       " ('7/16/2021', '14,495.41215 IDR'),\n",
       " ('7/19/2021', '14,490.12260 IDR'),\n",
       " ('7/20/2021', '14,514.10964 IDR'),\n",
       " ('7/21/2021', '14,495.34596 IDR'),\n",
       " ('7/22/2021', '14,508.09177 IDR'),\n",
       " ('7/23/2021', '14,492.63051 IDR'),\n",
       " ('7/26/2021', '14,487.54718 IDR'),\n",
       " ('7/27/2021', '14,468.66842 IDR'),\n",
       " ('7/28/2021', '14,414.21667 IDR'),\n",
       " ('7/29/2021', '14,467.14994 IDR'),\n",
       " ('7/30/2021', '14,501.55250 IDR'),\n",
       " ('8/2/2021', '14,445.82502 IDR'),\n",
       " ('8/3/2021', '14,391.49693 IDR'),\n",
       " ('8/4/2021', '14,313.11092 IDR'),\n",
       " ('8/5/2021', '14,315.95314 IDR'),\n",
       " ('8/6/2021', '14,403.07373 IDR'),\n",
       " ('8/9/2021', '14,363.60538 IDR'),\n",
       " ('8/10/2021', '14,379.25224 IDR'),\n",
       " ('8/11/2021', '14,385.48676 IDR'),\n",
       " ('8/12/2021', '14,387.28127 IDR'),\n",
       " ('8/13/2021', '14,327.19776 IDR'),\n",
       " ('8/16/2021', '14,376.39296 IDR'),\n",
       " ('8/17/2021', '14,439.92418 IDR'),\n",
       " ('8/18/2021', '14,372.20861 IDR'),\n",
       " ('8/19/2021', '14,411.77604 IDR'),\n",
       " ('8/20/2021', '14,460.04574 IDR'),\n",
       " ('8/23/2021', '14,400.21794 IDR'),\n",
       " ('8/24/2021', '14,379.34070 IDR'),\n",
       " ('8/25/2021', '14,386.20000 IDR'),\n",
       " ('8/26/2021', '14,415.01986 IDR'),\n",
       " ('8/27/2021', '14,368.74436 IDR'),\n",
       " ('8/30/2021', '14,367.01609 IDR'),\n",
       " ('8/31/2021', '14,296.13264 IDR'),\n",
       " ('9/1/2021', '14,257.71231 IDR'),\n",
       " ('9/2/2021', '14,248.52165 IDR'),\n",
       " ('9/3/2021', '14,251.87392 IDR'),\n",
       " ('9/6/2021', '14,214.47321 IDR'),\n",
       " ('9/7/2021', '14,249.33912 IDR'),\n",
       " ('9/8/2021', '14,251.89711 IDR'),\n",
       " ('9/9/2021', '14,260.57530 IDR'),\n",
       " ('9/10/2021', '14,226.67070 IDR'),\n",
       " ('9/13/2021', '14,298.65671 IDR'),\n",
       " ('9/14/2021', '14,244.84504 IDR'),\n",
       " ('9/15/2021', '14,235.96566 IDR'),\n",
       " ('9/16/2021', '14,250.19893 IDR'),\n",
       " ('9/17/2021', '14,293.12609 IDR'),\n",
       " ('9/20/2021', '14,235.10302 IDR'),\n",
       " ('9/21/2021', '14,238.62381 IDR'),\n",
       " ('9/22/2021', '14,299.15334 IDR'),\n",
       " ('9/23/2021', '14,242.87856 IDR'),\n",
       " ('9/24/2021', '14,272.18430 IDR'),\n",
       " ('9/27/2021', '14,264.68406 IDR'),\n",
       " ('9/28/2021', '14,271.16497 IDR'),\n",
       " ('9/29/2021', '14,367.73186 IDR'),\n",
       " ('9/30/2021', '14,298.48079 IDR'),\n",
       " ('10/1/2021', '14,293.86378 IDR'),\n",
       " ('10/4/2021', '14,262.54265 IDR'),\n",
       " ('10/5/2021', '14,260.00000 IDR'),\n",
       " ('10/6/2021', '14,245.00000 IDR'),\n",
       " ('10/7/2021', '14,248.99612 IDR'),\n",
       " ('10/8/2021', '14,217.98083 IDR'),\n",
       " ('10/11/2021', '14,220.90165 IDR'),\n",
       " ('10/12/2021', '14,214.84450 IDR'),\n",
       " ('10/13/2021', '14,204.85164 IDR'),\n",
       " ('10/14/2021', '14,105.27223 IDR'),\n",
       " ('10/15/2021', '14,070.19147 IDR'),\n",
       " ('10/18/2021', '14,056.43762 IDR'),\n",
       " ('10/19/2021', '14,075.46229 IDR'),\n",
       " ('10/20/2021', '14,079.51380 IDR'),\n",
       " ('10/21/2021', '14,121.60389 IDR'),\n",
       " ('10/22/2021', '14,110.21079 IDR'),\n",
       " ('10/25/2021', '14,152.60477 IDR'),\n",
       " ('10/26/2021', '14,166.19588 IDR'),\n",
       " ('10/27/2021', '14,141.55342 IDR'),\n",
       " ('10/28/2021', '14,175.29082 IDR'),\n",
       " ('10/29/2021', '14,288.95452 IDR'),\n",
       " ('11/1/2021', '14,233.76847 IDR'),\n",
       " ('11/2/2021', '14,256.29202 IDR'),\n",
       " ('11/3/2021', '14,256.74541 IDR'),\n",
       " ('11/4/2021', '14,334.06331 IDR'),\n",
       " ('11/5/2021', '14,338.39761 IDR'),\n",
       " ('11/8/2021', '14,257.97264 IDR'),\n",
       " ('11/9/2021', '14,243.01887 IDR'),\n",
       " ('11/10/2021', '14,271.96265 IDR'),\n",
       " ('11/11/2021', '14,288.84762 IDR'),\n",
       " ('11/12/2021', '14,233.63534 IDR'),\n",
       " ('11/15/2021', '14,235.75523 IDR'),\n",
       " ('11/16/2021', '14,222.37140 IDR'),\n",
       " ('11/17/2021', '14,246.59228 IDR'),\n",
       " ('11/18/2021', '14,225.41528 IDR'),\n",
       " ('11/19/2021', '14,243.55587 IDR'),\n",
       " ('11/22/2021', '14,243.50566 IDR'),\n",
       " ('11/23/2021', '14,259.04525 IDR'),\n",
       " ('11/24/2021', '14,320.08606 IDR'),\n",
       " ('11/25/2021', '14,283.22294 IDR'),\n",
       " ('11/26/2021', '14,300.35336 IDR'),\n",
       " ('11/29/2021', '14,295.39385 IDR'),\n",
       " ('11/30/2021', '14,353.30743 IDR'),\n",
       " ('12/1/2021', '14,347.93748 IDR'),\n",
       " ('12/2/2021', '14,392.39767 IDR'),\n",
       " ('12/3/2021', '14,389.50020 IDR'),\n",
       " ('12/6/2021', '14,432.56943 IDR'),\n",
       " ('12/7/2021', '14,347.32452 IDR'),\n",
       " ('12/8/2021', '14,370.91961 IDR'),\n",
       " ('12/9/2021', '14,344.97904 IDR'),\n",
       " ('12/10/2021', '14,370.27875 IDR'),\n",
       " ('12/13/2021', '14,357.75629 IDR'),\n",
       " ('12/14/2021', '14,341.93227 IDR'),\n",
       " ('12/15/2021', '14,251.62584 IDR'),\n",
       " ('12/16/2021', '14,330.91366 IDR'),\n",
       " ('12/17/2021', '14,389.66562 IDR'),\n",
       " ('12/20/2021', '14,382.49273 IDR'),\n",
       " ('12/21/2021', '14,304.01234 IDR'),\n",
       " ('12/22/2021', '14,298.20378 IDR'),\n",
       " ('12/23/2021', '14,256.89960 IDR'),\n",
       " ('12/24/2021', '14,264.51755 IDR'),\n",
       " ('12/27/2021', '14,227.31928 IDR'),\n",
       " ('12/28/2021', '14,221.34174 IDR'),\n",
       " ('12/29/2021', '14,198.28676 IDR'),\n",
       " ('12/30/2021', '14,249.76380 IDR'),\n",
       " ('12/31/2021', '14,184.77099 IDR'),\n",
       " ('1/3/2022', '14,271.10676 IDR'),\n",
       " ('1/4/2022', '14,306.22137 IDR'),\n",
       " ('1/5/2022', '14,376.59427 IDR'),\n",
       " ('1/6/2022', '14,387.13904 IDR')]"
      ]
     },
     "execution_count": 131,
     "metadata": {},
     "output_type": "execute_result"
    }
   ],
   "source": [
    "temp = temp[::-1]\n",
    "temp"
   ]
  },
  {
   "cell_type": "markdown",
   "metadata": {},
   "source": [
    "## Creating data frame & Data wrangling"
   ]
  },
  {
   "cell_type": "markdown",
   "metadata": {},
   "source": [
    "Put the array into dataframe"
   ]
  },
  {
   "cell_type": "code",
   "execution_count": 132,
   "metadata": {
    "ExecuteTime": {
     "end_time": "2020-01-13T05:12:41.517372Z",
     "start_time": "2020-01-13T05:12:29.130015Z"
    }
   },
   "outputs": [
    {
     "data": {
      "text/html": [
       "<div>\n",
       "<style scoped>\n",
       "    .dataframe tbody tr th:only-of-type {\n",
       "        vertical-align: middle;\n",
       "    }\n",
       "\n",
       "    .dataframe tbody tr th {\n",
       "        vertical-align: top;\n",
       "    }\n",
       "\n",
       "    .dataframe thead th {\n",
       "        text-align: right;\n",
       "    }\n",
       "</style>\n",
       "<table border=\"1\" class=\"dataframe\">\n",
       "  <thead>\n",
       "    <tr style=\"text-align: right;\">\n",
       "      <th></th>\n",
       "      <th>tanggal</th>\n",
       "      <th>harga_harian</th>\n",
       "    </tr>\n",
       "  </thead>\n",
       "  <tbody>\n",
       "    <tr>\n",
       "      <th>0</th>\n",
       "      <td>7/12/2021</td>\n",
       "      <td>14,491.59294 IDR</td>\n",
       "    </tr>\n",
       "    <tr>\n",
       "      <th>1</th>\n",
       "      <td>7/13/2021</td>\n",
       "      <td>14,476.52203 IDR</td>\n",
       "    </tr>\n",
       "    <tr>\n",
       "      <th>2</th>\n",
       "      <td>7/14/2021</td>\n",
       "      <td>14,404.17703 IDR</td>\n",
       "    </tr>\n",
       "    <tr>\n",
       "      <th>3</th>\n",
       "      <td>7/15/2021</td>\n",
       "      <td>14,469.95831 IDR</td>\n",
       "    </tr>\n",
       "    <tr>\n",
       "      <th>4</th>\n",
       "      <td>7/16/2021</td>\n",
       "      <td>14,495.41215 IDR</td>\n",
       "    </tr>\n",
       "  </tbody>\n",
       "</table>\n",
       "</div>"
      ],
      "text/plain": [
       "     tanggal      harga_harian\n",
       "0  7/12/2021  14,491.59294 IDR\n",
       "1  7/13/2021  14,476.52203 IDR\n",
       "2  7/14/2021  14,404.17703 IDR\n",
       "3  7/15/2021  14,469.95831 IDR\n",
       "4  7/16/2021  14,495.41215 IDR"
      ]
     },
     "execution_count": 132,
     "metadata": {},
     "output_type": "execute_result"
    }
   ],
   "source": [
    "import pandas as pd\n",
    "\n",
    "df = pd.DataFrame(temp, columns = ('tanggal','harga_harian'))\n",
    "df.head()"
   ]
  },
  {
   "cell_type": "markdown",
   "metadata": {},
   "source": [
    "Let's check our dataframe data types to see if our data is useable."
   ]
  },
  {
   "cell_type": "code",
   "execution_count": 133,
   "metadata": {},
   "outputs": [
    {
     "data": {
      "text/plain": [
       "tanggal         object\n",
       "harga_harian    object\n",
       "dtype: object"
      ]
     },
     "execution_count": 133,
     "metadata": {},
     "output_type": "execute_result"
    }
   ],
   "source": [
    "df.dtypes"
   ]
  },
  {
   "cell_type": "markdown",
   "metadata": {},
   "source": [
    "We will change the `harga_harian` to float datatype, but before we can do that we need to change the \",\" to \"\" and the \" IDR\" to \"\" first. To do this we can use the help of str.replace(). Then lastly let's fix our `tanggal` data type."
   ]
  },
  {
   "cell_type": "code",
   "execution_count": 134,
   "metadata": {},
   "outputs": [
    {
     "data": {
      "text/plain": [
       "tanggal         datetime64[ns]\n",
       "harga_harian           float64\n",
       "dtype: object"
      ]
     },
     "execution_count": 134,
     "metadata": {},
     "output_type": "execute_result"
    }
   ],
   "source": [
    "df['harga_harian'] = df['harga_harian'].str.replace(\" IDR\",\"\")\n",
    "df['harga_harian'] = df['harga_harian'].str.replace(\",\",\"\")\n",
    "df['harga_harian'] = df['harga_harian'].astype('float')\n",
    "df['tanggal'] = df['tanggal'].astype('datetime64')\n",
    "df.dtypes"
   ]
  },
  {
   "cell_type": "markdown",
   "metadata": {},
   "source": [
    "We will also change the format display of the `harga_harian`"
   ]
  },
  {
   "cell_type": "code",
   "execution_count": 135,
   "metadata": {},
   "outputs": [],
   "source": [
    "pd.set_option('display.float_format', lambda x: '%.2f' % x)\n",
    "pd.options.display.float_format = '{:,}'.format"
   ]
  },
  {
   "cell_type": "code",
   "execution_count": 136,
   "metadata": {},
   "outputs": [
    {
     "data": {
      "text/html": [
       "<div>\n",
       "<style scoped>\n",
       "    .dataframe tbody tr th:only-of-type {\n",
       "        vertical-align: middle;\n",
       "    }\n",
       "\n",
       "    .dataframe tbody tr th {\n",
       "        vertical-align: top;\n",
       "    }\n",
       "\n",
       "    .dataframe thead th {\n",
       "        text-align: right;\n",
       "    }\n",
       "</style>\n",
       "<table border=\"1\" class=\"dataframe\">\n",
       "  <thead>\n",
       "    <tr style=\"text-align: right;\">\n",
       "      <th></th>\n",
       "      <th>tanggal</th>\n",
       "      <th>harga_harian</th>\n",
       "    </tr>\n",
       "  </thead>\n",
       "  <tbody>\n",
       "    <tr>\n",
       "      <th>0</th>\n",
       "      <td>2021-07-12</td>\n",
       "      <td>14,491.59294</td>\n",
       "    </tr>\n",
       "    <tr>\n",
       "      <th>1</th>\n",
       "      <td>2021-07-13</td>\n",
       "      <td>14,476.52203</td>\n",
       "    </tr>\n",
       "    <tr>\n",
       "      <th>2</th>\n",
       "      <td>2021-07-14</td>\n",
       "      <td>14,404.17703</td>\n",
       "    </tr>\n",
       "    <tr>\n",
       "      <th>3</th>\n",
       "      <td>2021-07-15</td>\n",
       "      <td>14,469.95831</td>\n",
       "    </tr>\n",
       "    <tr>\n",
       "      <th>4</th>\n",
       "      <td>2021-07-16</td>\n",
       "      <td>14,495.41215</td>\n",
       "    </tr>\n",
       "  </tbody>\n",
       "</table>\n",
       "</div>"
      ],
      "text/plain": [
       "     tanggal  harga_harian\n",
       "0 2021-07-12  14,491.59294\n",
       "1 2021-07-13  14,476.52203\n",
       "2 2021-07-14  14,404.17703\n",
       "3 2021-07-15  14,469.95831\n",
       "4 2021-07-16  14,495.41215"
      ]
     },
     "execution_count": 136,
     "metadata": {},
     "output_type": "execute_result"
    }
   ],
   "source": [
    "df.head()"
   ]
  },
  {
   "cell_type": "markdown",
   "metadata": {},
   "source": [
    "To make our plot behave like we want, we need to set our index of our dataframe to our time column. We can use set_index()"
   ]
  },
  {
   "cell_type": "code",
   "execution_count": 137,
   "metadata": {
    "ExecuteTime": {
     "end_time": "2020-01-13T05:12:59.165559Z",
     "start_time": "2020-01-13T05:12:58.910012Z"
    }
   },
   "outputs": [],
   "source": [
    "df = df.set_index('tanggal')"
   ]
  },
  {
   "cell_type": "markdown",
   "metadata": {},
   "source": [
    "### Implementing your webscrapping to the flask dashboard\n",
    "\n",
    "- Copy paste all of your web scrapping process to the desired position on the `app.py`\n",
    "- Changing the title of the dasboard at `index.html`"
   ]
  },
  {
   "cell_type": "markdown",
   "metadata": {},
   "source": [
    "## Finishing This Notebook with Your Analysis and Conclusion\n",
    "\n",
    "First you can do start with making the data visualisation. "
   ]
  },
  {
   "cell_type": "code",
   "execution_count": 138,
   "metadata": {
    "ExecuteTime": {
     "end_time": "2020-01-13T05:20:56.208237Z",
     "start_time": "2020-01-13T05:20:56.076043Z"
    }
   },
   "outputs": [
    {
     "data": {
      "image/png": "[encoded data removed]",
      "text/plain": [
       "<Figure size 432x288 with 1 Axes>"
      ]
     },
     "metadata": {
      "needs_background": "light"
     },
     "output_type": "display_data"
    }
   ],
   "source": [
    "df.plot();"
   ]
  },
  {
   "cell_type": "markdown",
   "metadata": {},
   "source": [
    "> 📈 **Insight yang dapat diambil:**\n",
    "- Harga harian kurs USD dari bulan Agustus 2021 hingga Januari 2022 cenderung fluktuatif. \n",
    "- Harga harian kurs USD dari bulan Agustus 2021 cenderung mengalami penurunan hingga bulan Oktober 2021. Setelah itu, cenderung mengalami kenaikan hingga bulan Desember 2021 dan kembali mengalami sedikit penurunan pada akhir Desember 2021 dan kembali mengalami penaikan pada awal Januari 2022 \n",
    "- Harga harian kurs USD terendah berada pada bulan Oktober 2021.\n",
    "- Harga harian kurs USD tertinggi berada pada bulan Agustus 2021."
   ]
  },
  {
   "cell_type": "markdown",
   "metadata": {},
   "source": [
    "### Extra Challenge\n",
    "\n",
    "This will be not included to the scoring. \n",
    "\n",
    "- You can create additional analysis from the data.\n",
    "- Implement it to the dashboard with at `app.py` dan `index.html`."
   ]
  },
  {
   "cell_type": "markdown",
   "metadata": {},
   "source": [
    "We will use the sama dataframe as before, but we will reset the index first."
   ]
  },
  {
   "cell_type": "code",
   "execution_count": 139,
   "metadata": {},
   "outputs": [],
   "source": [
    "df1 = df.reset_index()"
   ]
  },
  {
   "cell_type": "code",
   "execution_count": 140,
   "metadata": {},
   "outputs": [
    {
     "data": {
      "text/html": [
       "<div>\n",
       "<style scoped>\n",
       "    .dataframe tbody tr th:only-of-type {\n",
       "        vertical-align: middle;\n",
       "    }\n",
       "\n",
       "    .dataframe tbody tr th {\n",
       "        vertical-align: top;\n",
       "    }\n",
       "\n",
       "    .dataframe thead th {\n",
       "        text-align: right;\n",
       "    }\n",
       "</style>\n",
       "<table border=\"1\" class=\"dataframe\">\n",
       "  <thead>\n",
       "    <tr style=\"text-align: right;\">\n",
       "      <th></th>\n",
       "      <th>tanggal</th>\n",
       "      <th>harga_harian</th>\n",
       "    </tr>\n",
       "  </thead>\n",
       "  <tbody>\n",
       "    <tr>\n",
       "      <th>0</th>\n",
       "      <td>2021-07-12</td>\n",
       "      <td>14,491.59294</td>\n",
       "    </tr>\n",
       "    <tr>\n",
       "      <th>1</th>\n",
       "      <td>2021-07-13</td>\n",
       "      <td>14,476.52203</td>\n",
       "    </tr>\n",
       "    <tr>\n",
       "      <th>2</th>\n",
       "      <td>2021-07-14</td>\n",
       "      <td>14,404.17703</td>\n",
       "    </tr>\n",
       "    <tr>\n",
       "      <th>3</th>\n",
       "      <td>2021-07-15</td>\n",
       "      <td>14,469.95831</td>\n",
       "    </tr>\n",
       "    <tr>\n",
       "      <th>4</th>\n",
       "      <td>2021-07-16</td>\n",
       "      <td>14,495.41215</td>\n",
       "    </tr>\n",
       "  </tbody>\n",
       "</table>\n",
       "</div>"
      ],
      "text/plain": [
       "     tanggal  harga_harian\n",
       "0 2021-07-12  14,491.59294\n",
       "1 2021-07-13  14,476.52203\n",
       "2 2021-07-14  14,404.17703\n",
       "3 2021-07-15  14,469.95831\n",
       "4 2021-07-16  14,495.41215"
      ]
     },
     "execution_count": 140,
     "metadata": {},
     "output_type": "execute_result"
    }
   ],
   "source": [
    "df1.head()"
   ]
  },
  {
   "cell_type": "markdown",
   "metadata": {},
   "source": [
    "We will make a new column that contained day of week."
   ]
  },
  {
   "cell_type": "code",
   "execution_count": 146,
   "metadata": {},
   "outputs": [
    {
     "data": {
      "text/html": [
       "<div>\n",
       "<style scoped>\n",
       "    .dataframe tbody tr th:only-of-type {\n",
       "        vertical-align: middle;\n",
       "    }\n",
       "\n",
       "    .dataframe tbody tr th {\n",
       "        vertical-align: top;\n",
       "    }\n",
       "\n",
       "    .dataframe thead th {\n",
       "        text-align: right;\n",
       "    }\n",
       "</style>\n",
       "<table border=\"1\" class=\"dataframe\">\n",
       "  <thead>\n",
       "    <tr style=\"text-align: right;\">\n",
       "      <th></th>\n",
       "      <th>tanggal</th>\n",
       "      <th>harga_harian</th>\n",
       "      <th>hari</th>\n",
       "    </tr>\n",
       "  </thead>\n",
       "  <tbody>\n",
       "    <tr>\n",
       "      <th>0</th>\n",
       "      <td>2021-07-12</td>\n",
       "      <td>14,491.59294</td>\n",
       "      <td>Monday</td>\n",
       "    </tr>\n",
       "    <tr>\n",
       "      <th>1</th>\n",
       "      <td>2021-07-13</td>\n",
       "      <td>14,476.52203</td>\n",
       "      <td>Tuesday</td>\n",
       "    </tr>\n",
       "    <tr>\n",
       "      <th>2</th>\n",
       "      <td>2021-07-14</td>\n",
       "      <td>14,404.17703</td>\n",
       "      <td>Wednesday</td>\n",
       "    </tr>\n",
       "    <tr>\n",
       "      <th>3</th>\n",
       "      <td>2021-07-15</td>\n",
       "      <td>14,469.95831</td>\n",
       "      <td>Thursday</td>\n",
       "    </tr>\n",
       "    <tr>\n",
       "      <th>4</th>\n",
       "      <td>2021-07-16</td>\n",
       "      <td>14,495.41215</td>\n",
       "      <td>Friday</td>\n",
       "    </tr>\n",
       "  </tbody>\n",
       "</table>\n",
       "</div>"
      ],
      "text/plain": [
       "     tanggal  harga_harian       hari\n",
       "0 2021-07-12  14,491.59294     Monday\n",
       "1 2021-07-13  14,476.52203    Tuesday\n",
       "2 2021-07-14  14,404.17703  Wednesday\n",
       "3 2021-07-15  14,469.95831   Thursday\n",
       "4 2021-07-16  14,495.41215     Friday"
      ]
     },
     "execution_count": 146,
     "metadata": {},
     "output_type": "execute_result"
    }
   ],
   "source": [
    "df1['hari'] = df1['tanggal'].dt.day_name()\n",
    "df1.head()"
   ]
  },
  {
   "cell_type": "markdown",
   "metadata": {},
   "source": [
    "We will make aggregation table to summarize the average of exchange rates based on each day."
   ]
  },
  {
   "cell_type": "code",
   "execution_count": 147,
   "metadata": {},
   "outputs": [
    {
     "data": {
      "text/html": [
       "<div>\n",
       "<style scoped>\n",
       "    .dataframe tbody tr th:only-of-type {\n",
       "        vertical-align: middle;\n",
       "    }\n",
       "\n",
       "    .dataframe tbody tr th {\n",
       "        vertical-align: top;\n",
       "    }\n",
       "\n",
       "    .dataframe thead th {\n",
       "        text-align: right;\n",
       "    }\n",
       "</style>\n",
       "<table border=\"1\" class=\"dataframe\">\n",
       "  <thead>\n",
       "    <tr style=\"text-align: right;\">\n",
       "      <th></th>\n",
       "      <th>harga_harian</th>\n",
       "    </tr>\n",
       "    <tr>\n",
       "      <th>hari</th>\n",
       "      <th></th>\n",
       "    </tr>\n",
       "  </thead>\n",
       "  <tbody>\n",
       "    <tr>\n",
       "      <th>Friday</th>\n",
       "      <td>14,311.5355376</td>\n",
       "    </tr>\n",
       "    <tr>\n",
       "      <th>Monday</th>\n",
       "      <td>14,310.206313076924</td>\n",
       "    </tr>\n",
       "    <tr>\n",
       "      <th>Thursday</th>\n",
       "      <td>14,308.48809923077</td>\n",
       "    </tr>\n",
       "    <tr>\n",
       "      <th>Tuesday</th>\n",
       "      <td>14,304.645753846155</td>\n",
       "    </tr>\n",
       "    <tr>\n",
       "      <th>Wednesday</th>\n",
       "      <td>14,299.73381653846</td>\n",
       "    </tr>\n",
       "  </tbody>\n",
       "</table>\n",
       "</div>"
      ],
      "text/plain": [
       "                 harga_harian\n",
       "hari                         \n",
       "Friday         14,311.5355376\n",
       "Monday    14,310.206313076924\n",
       "Thursday   14,308.48809923077\n",
       "Tuesday   14,304.645753846155\n",
       "Wednesday  14,299.73381653846"
      ]
     },
     "execution_count": 147,
     "metadata": {},
     "output_type": "execute_result"
    }
   ],
   "source": [
    "dfhari = df1.groupby('hari').mean().sort_values('harga_harian', ascending=False)\n",
    "dfhari"
   ]
  },
  {
   "cell_type": "markdown",
   "metadata": {},
   "source": [
    "To make the plot more insightful, we will sort the day of week."
   ]
  },
  {
   "cell_type": "code",
   "execution_count": 148,
   "metadata": {
    "scrolled": true
   },
   "outputs": [
    {
     "data": {
      "text/plain": [
       "CategoricalIndex(['Friday', 'Monday', 'Thursday', 'Tuesday', 'Wednesday'], categories=['Monday', 'Tuesday', 'Wednesday', 'Thursday', 'Friday'], ordered=True, name='hari', dtype='category')"
      ]
     },
     "execution_count": 148,
     "metadata": {},
     "output_type": "execute_result"
    }
   ],
   "source": [
    "wday = [\"Monday\", \"Tuesday\", \"Wednesday\", \"Thursday\", \"Friday\"]\n",
    "dfhari.index = pd.CategoricalIndex(\n",
    "    data = dfhari.index, # list data yang ingin diubah urutannya\n",
    "    categories = wday, # list data urutan yang benar\n",
    "    ordered = True)\n",
    "dfhari.index"
   ]
  },
  {
   "cell_type": "markdown",
   "metadata": {},
   "source": [
    "We use the line plot because it is more insightful. If we use the bar plot, the differences in each day don't really look significant or clear."
   ]
  },
  {
   "cell_type": "code",
   "execution_count": 150,
   "metadata": {},
   "outputs": [
    {
     "data": {
      "image/png": "[encoded data removed]",
      "text/plain": [
       "<Figure size 432x288 with 1 Axes>"
      ]
     },
     "metadata": {
      "needs_background": "light"
     },
     "output_type": "display_data"
    }
   ],
   "source": [
    "dfhari.sort_index().plot(kind='bar',rot=0);"
   ]
  },
  {
   "cell_type": "code",
   "execution_count": 145,
   "metadata": {},
   "outputs": [
    {
     "data": {
      "image/png": "[encoded data removed]",
      "text/plain": [
       "<Figure size 432x288 with 1 Axes>"
      ]
     },
     "metadata": {
      "needs_background": "light"
     },
     "output_type": "display_data"
    }
   ],
   "source": [
    "dfhari.sort_index().plot();"
   ]
  },
  {
   "cell_type": "markdown",
   "metadata": {},
   "source": [
    "> 📈 **Insight yang dapat diambil:**\n",
    "- Rata-rata harga harian kurs USD pada hari Senin hingga hari Rabu cenderung menurun hingga akhirnya kembali mengalami kenaikan dari hari Rabu hingga Jumat.\n",
    "- Rata-rata harga harian kurs USD terendah berada pada hari Rabu.\n",
    "- Rata-rata harga harian kurs USD tertinggi berada pada hari Jumat.\n",
    "- Kenaikan rata-rata harga harian kurs USD tertinggi berada pada hari Kamis.\n",
    "- Penurunan rata-rata harga harian kurs USD tertinggi berada pada hari Selasa."
   ]
  },
  {
   "cell_type": "code",
   "execution_count": null,
   "metadata": {},
   "outputs": [],
   "source": []
  }
 ],
 "metadata": {
  "kernelspec": {
   "display_name": "Python [conda env:webscraping]",
   "language": "python",
   "name": "conda-env-webscraping-py"
  },
  "language_info": {
   "codemirror_mode": {
    "name": "ipython",
    "version": 3
   },
   "file_extension": ".py",
   "mimetype": "text/x-python",
   "name": "python",
   "nbconvert_exporter": "python",
   "pygments_lexer": "ipython3",
   "version": "3.8.12"
  },
  "varInspector": {
   "cols": {
    "lenName": 16,
    "lenType": 16,
    "lenVar": 40
   },
   "kernels_config": {
    "python": {
     "delete_cmd_postfix": "",
     "delete_cmd_prefix": "del ",
     "library": "var_list.py",
     "varRefreshCmd": "print(var_dic_list())"
    },
    "r": {
     "delete_cmd_postfix": ") ",
     "delete_cmd_prefix": "rm(",
     "library": "var_list.r",
     "varRefreshCmd": "cat(var_dic_list()) "
    }
   },
   "types_to_exclude": [
    "module",
    "function",
    "builtin_function_or_method",
    "instance",
    "_Feature"
   ],
   "window_display": false
  }
 },
 "nbformat": 4,
 "nbformat_minor": 2
}
